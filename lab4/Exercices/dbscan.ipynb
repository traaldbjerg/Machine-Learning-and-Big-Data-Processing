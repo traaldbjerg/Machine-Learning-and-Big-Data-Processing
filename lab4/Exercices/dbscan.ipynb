{
 "cells": [
  {
   "cell_type": "code",
   "execution_count": null,
   "metadata": {
    "collapsed": true
   },
   "outputs": [],
   "source": [
    "import sklearn\n",
    "from sklearn import datasets\n",
    "from sklearn.metrics import silhouette_score\n",
    "import numpy as np \n",
    "import matplotlib.pyplot as plt \n",
    "import copy "
   ]
  },
  {
   "cell_type": "code",
   "execution_count": null,
   "metadata": {
    "collapsed": true
   },
   "outputs": [],
   "source": [
    "# Step 1: Load the Digit dataset\n",
    "digits = datasets.load_digits(n_class=5)\n",
    "X = digits.data\n",
    "print(X.shape)"
   ]
  },
  {
   "cell_type": "code",
   "execution_count": null,
   "metadata": {
    "collapsed": true
   },
   "outputs": [],
   "source": [
    "# Step 2: euclidean distance \n",
    "def euclidean_distances(A, B):\n",
    "    n, d = A.shape\n",
    "    m, d1 = B.shape\n",
    "    assert d == d1, 'Incompatible shape'\n",
    "    A_squared = np.sum(np.square(A), axis=1, keepdims=True)\n",
    "    B_squared = np.sum(np.square(B), axis=1, keepdims=True)\n",
    "    AB = np.matmul(A, B.T)\n",
    "    distances = np.sqrt(A_squared - 2 * AB + B_squared.T)\n",
    "    return distances"
   ]
  },
  {
   "cell_type": "code",
   "execution_count": null,
   "metadata": {
    "collapsed": true
   },
   "outputs": [],
   "source": [
    "# Step 3: find eps-neighborhood of a point\n",
    "def find_eps_neighborhood(distances, ind, eps):\n",
    "    ''' \n",
    "    Input arguments:\n",
    "        - distances: a matrix containing distances between all pairs of points in the dataset\n",
    "        - ind: index of the point of interest\n",
    "        - eps: the epsilon parameter\n",
    "    Output:\n",
    "        - Retun a set of points in the neighborhood. \n",
    "        (Note: Use the 'set' data structure in Python)\n",
    "    '''\n",
    "    ### YOUR CODE HERE ###"
   ]
  },
  {
   "cell_type": "code",
   "execution_count": null,
   "metadata": {
    "collapsed": true
   },
   "outputs": [],
   "source": [
    "# Step 4: find all reachable points of a given point w.r.t eps \n",
    "def find_reachable_pts(distances, eps, ind):\n",
    "    eps_neighbors = find_eps_neighborhood(distances, ind, eps)\n",
    "    reachables = eps_neighbors\n",
    "    new_pts = copy.deepcopy(eps_neighbors)\n",
    "    new_pts.remove(ind)\n",
    "    while len(new_pts) > 0:\n",
    "        pt = new_pts.pop() \n",
    "        pt_neighbors = find_eps_neighborhood(distances, pt, eps)\n",
    "        additional_pts = pt_neighbors.difference(reachables)\n",
    "        reachables.update(additional_pts)\n",
    "        new_pts.update(additional_pts)\n",
    "    return reachables"
   ]
  },
  {
   "cell_type": "code",
   "execution_count": null,
   "metadata": {
    "collapsed": true
   },
   "outputs": [],
   "source": [
    "def dbscan(X, eps, minPts):\n",
    "    ''' a simple implementation of DBSCAN algorithm\n",
    "    In this implementation, a point is represented by its index in the dataset. \n",
    "    In this function, except for the step to calculate the Euclidean distance,\n",
    "    we will only work with the points't indices.\n",
    "    \n",
    "    Input arguments:\n",
    "        - X: the dataset\n",
    "        - eps: the epsilon parameter\n",
    "        - minPts: the minimum number of points for a cluster\n",
    "    Output:\n",
    "        - core_points: a list containing the indices of the core points\n",
    "        - cluster_labels: a Numpy array containing labels for each point in X\n",
    "        - outliers: a list containing the indices of the outlier points\n",
    "    '''\n",
    "    # a list to keep track of the unvisited points\n",
    "    unvisited = list(range(X.shape[0]))\n",
    "    # list of core points (or cluster centroids)\n",
    "    core_points = list([])\n",
    "    # list of clusters, each cluster is a set of points\n",
    "    clusters = list([])\n",
    "    # list of outlier points (or noises)\n",
    "    outliers = list([])\n",
    "    distances = euclidean_distances(X, X)\n",
    "    \n",
    "    while True:\n",
    "        # randomly choose a point, p, from the list of unvisited points\n",
    "        ind = ### YOUR CODE HERE ###\n",
    "        \n",
    "        # find the eps-neighborhood of the chosen point p\n",
    "        eps_neighbors = ### YOUR CODE HERE ###\n",
    "        \n",
    "        # check if p is a core point or not\n",
    "        is_core_pt =  ### YOUR CODE HERE ###\n",
    "        \n",
    "        if is_core_pt:\n",
    "            # add the chosen index to the core_points list\n",
    "            ### YOUR CODE HERE ###\n",
    "            \n",
    "            \n",
    "            # find all reachable points from p w.r.t eps and form a new cluster\n",
    "            new_cluster = find_reachable_pts(distances, eps, ind) ### YOUR CODE HERE ###\n",
    "            \n",
    "            # add the newly formed cluster to the list of cluster\n",
    "            ### YOUR CODE HERE ###\n",
    "            \n",
    "            \n",
    "            # remove the indices in the new_cluster from the unvisited list and the outlier list,\n",
    "            # if they were added to either of those list before\n",
    "            ### YOUR CODE HERE ###\n",
    "            \n",
    "            \n",
    "        else:\n",
    "            # if not core point, add p to the list of outlier points\n",
    "            ### YOUR CODE HERE ###\n",
    "            \n",
    "        \n",
    "        # remove the chosen index from the unvisited list (if it is still inside this list)\n",
    "        ### YOUR CODE HERE ###\n",
    "\n",
    "            \n",
    "        # if there is no point left in the unvisited list, stop the loop\n",
    "        if len(unvisited) == 0:\n",
    "            break\n",
    "    \n",
    "    # convert the resulting cluster list to cluster_labels\n",
    "    cluster_labels = np.zeros(X.shape[0])\n",
    "    for i in range(len(clusters)):\n",
    "        for j in clusters[i]:\n",
    "            cluster_labels[j] = i\n",
    "\n",
    "    return core_points, cluster_labels, outliers"
   ]
  },
  {
   "cell_type": "code",
   "execution_count": null,
   "metadata": {
    "collapsed": true
   },
   "outputs": [],
   "source": [
    "eps = 20.0\n",
    "minPts = 10\n",
    "core_points, cluster_labels, outliers = dbscan(X, eps, minPts)\n",
    "print('%d clusters found' %(len(core_points)))\n",
    "print('%d outlier points detected' %(len(outliers)))\n",
    "\n",
    "# visualize the clustering result\n",
    "selected_cluster = 1\n",
    "X_cluster_1 = X[cluster_labels == selected_cluster]\n",
    "n_img_per_row = 10\n",
    "img = np.zeros((10 * n_img_per_row, 10 * n_img_per_row))\n",
    "for i in range(n_img_per_row):\n",
    "    ix = 10 * i + 1\n",
    "    for j in range(n_img_per_row):\n",
    "        iy = 10 * j + 1\n",
    "        img_indx = i * n_img_per_row + j\n",
    "        if img_indx < len(X_cluster_1):\n",
    "            img[ix:ix + 8, iy:iy + 8] = X_cluster_1[i * n_img_per_row + j].reshape((8, 8))\n",
    "\n",
    "plt.imshow(img, cmap=plt.cm.binary)\n",
    "plt.xticks([])\n",
    "plt.yticks([])\n",
    "plt.title('A selection of 100 images from cluster {:}'.format(selected_cluster))\n",
    "plt.show()\n",
    "\n",
    "# Calculate the shlhouette score\n",
    "if len(core_points) > 1:\n",
    "    print('Silhouette score: %f' %silhouette_score(X, cluster_labels))\n",
    "else:\n",
    "    print('Cannot evaluate silhouetter score with only one cluster')"
   ]
  }
 ],
 "metadata": {
  "kernelspec": {
   "display_name": "Python 2",
   "language": "python",
   "name": "python2"
  },
  "language_info": {
   "codemirror_mode": {
    "name": "ipython",
    "version": 2
   },
   "file_extension": ".py",
   "mimetype": "text/x-python",
   "name": "python",
   "nbconvert_exporter": "python",
   "pygments_lexer": "ipython2",
   "version": "2.7.12"
  }
 },
 "nbformat": 4,
 "nbformat_minor": 1
}
