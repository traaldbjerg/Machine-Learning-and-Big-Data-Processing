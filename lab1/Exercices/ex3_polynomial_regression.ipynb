{
  "cells": [
    {
      "cell_type": "code",
      "execution_count": 5,
      "metadata": {
        "collapsed": true,
        "id": "jx7Wzwx3aqB9"
      },
      "outputs": [],
      "source": [
        "from sklearn.datasets import fetch_california_housing\n",
        "import numpy as np"
      ]
    },
    {
      "cell_type": "code",
      "execution_count": 6,
      "metadata": {
        "colab": {
          "base_uri": "https://localhost:8080/"
        },
        "id": "J8Xsp1dBaqB-",
        "outputId": "5500b3e9-6214-4539-fd93-08f1a6698cda"
      },
      "outputs": [
        {
          "name": "stdout",
          "output_type": "stream",
          "text": [
            "(20640, 8)\n",
            "(20640,)\n"
          ]
        }
      ],
      "source": [
        "# load dataset\n",
        "X, y = fetch_california_housing(return_X_y=True)\n",
        "print(X.shape)\n",
        "print(y.shape)"
      ]
    },
    {
      "cell_type": "code",
      "execution_count": 7,
      "metadata": {
        "id": "FML60p6aaqCA",
        "outputId": "eaad35cc-825f-43b2-f5d0-1c29cac30e2a"
      },
      "outputs": [
        {
          "name": "stdout",
          "output_type": "stream",
          "text": [
            "(20640, 13)\n"
          ]
        }
      ],
      "source": [
        "# create virtual features, including\n",
        "#   second degree of the first variable\n",
        "#   second degrees of the second variable\n",
        "#   third and second degrees of the third variable\n",
        "### Your code here ###\n",
        "X_1_squared = X[:, 0] ** 2\n",
        "X_2_squared = X[:, 1] ** 2\n",
        "X_3_squared = X[:, 2] ** 2\n",
        "X_3_cubed = X[:, 2] ** 3\n",
        "\n",
        "#print(X_1_squared.shape)\n",
        "\n",
        "# concatenate the virtual feature to the original features\n",
        "### Your code here ###\n",
        "X = np.hstack((X, X_1_squared.reshape(-1, 1), X_2_squared.reshape(-1, 1), X_3_squared.reshape(-1, 1), X_3_cubed.reshape(-1, 1)))\n",
        "\n",
        "# add a dimension with all 1 to account for the intercept term\n",
        "interc = np.ones((X.shape[0], 1))\n",
        "X = np.hstack((interc, X))\n",
        "print(X.shape)"
      ]
    },
    {
      "cell_type": "code",
      "execution_count": 23,
      "metadata": {
        "id": "TjgrZcjRaqCB",
        "outputId": "574d630d-f209-4913-dedf-395eda6df704"
      },
      "outputs": [
        {
          "name": "stdout",
          "output_type": "stream",
          "text": [
            "Train/Test: 16512/4128\n"
          ]
        }
      ],
      "source": [
        "# split training and testing dataset\n",
        "train_ratio = 0.8\n",
        "cutoff = int(X.shape[0] * train_ratio)\n",
        "X_tr = X[:cutoff, :]\n",
        "y_tr = y[:cutoff]\n",
        "X_te = X[cutoff:,:]\n",
        "y_te = y[cutoff:]\n",
        "print('Train/Test: %d/%d' %(X_tr.shape[0], X_te.shape[0]))"
      ]
    },
    {
      "cell_type": "code",
      "execution_count": 9,
      "metadata": {
        "collapsed": true,
        "id": "wX4eAADZaqCB"
      },
      "outputs": [],
      "source": [
        "# linear regression using the normal equation\n",
        "def pseudo_inverse(A):\n",
        "    # Calculate the pseudo_inverse of A\n",
        "    pinv = np.matmul(np.linalg.inv(np.matmul(A.T, A)), A.T)\n",
        "    return pinv"
      ]
    },
    {
      "cell_type": "code",
      "execution_count": 24,
      "metadata": {
        "collapsed": true,
        "id": "Zp55QEsoaqCC"
      },
      "outputs": [],
      "source": [
        "# fit the polynomial on the training set\n",
        "beta = np.dot(pseudo_inverse(X_tr), y_tr) ### Your code here ###"
      ]
    },
    {
      "cell_type": "code",
      "execution_count": 11,
      "metadata": {
        "collapsed": true,
        "id": "IC6nrH9GaqCC"
      },
      "outputs": [],
      "source": [
        "# evaluation functions\n",
        "def MSE(prediction,reference):\n",
        "    # Calculate the mean square error between the prediction and reference vectors\n",
        "    mse = np.mean((prediction - reference)**2)### Your code here ###\n",
        "    return mse\n",
        "\n",
        "def MAE(prediction, reference):\n",
        "    # Calculate the mean absolute error between the prediction and reference vectors\n",
        "    mae = np.mean(np.abs(prediction - reference))### Your code here ###\n",
        "    return mae"
      ]
    },
    {
      "cell_type": "code",
      "execution_count": 25,
      "metadata": {
        "collapsed": true,
        "id": "FkekQMgZaqCD"
      },
      "outputs": [
        {
          "name": "stdout",
          "output_type": "stream",
          "text": [
            "0.4913498943479987\n",
            "0.5205359228808778\n"
          ]
        }
      ],
      "source": [
        "# make prediction on the testing set\n",
        "pred = np.dot(X_te, beta)### Your code here ###\n",
        "mse = MSE(pred, y_te)\n",
        "mae = MAE(pred, y_te)\n",
        "print(mse)\n",
        "print(mae)"
      ]
    }
  ],
  "metadata": {
    "anaconda-cloud": {},
    "colab": {
      "provenance": []
    },
    "kernelspec": {
      "display_name": "Python 3",
      "language": "python",
      "name": "python3"
    },
    "language_info": {
      "codemirror_mode": {
        "name": "ipython",
        "version": 3
      },
      "file_extension": ".py",
      "mimetype": "text/x-python",
      "name": "python",
      "nbconvert_exporter": "python",
      "pygments_lexer": "ipython3",
      "version": "3.8.10"
    }
  },
  "nbformat": 4,
  "nbformat_minor": 0
}
