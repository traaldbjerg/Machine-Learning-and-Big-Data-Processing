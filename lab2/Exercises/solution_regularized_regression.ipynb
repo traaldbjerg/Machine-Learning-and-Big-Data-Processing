{
 "cells": [
  {
   "cell_type": "code",
   "execution_count": 4,
   "metadata": {
    "collapsed": true
   },
   "outputs": [],
   "source": [
    "from sklearn import datasets\n",
    "import numpy as np"
   ]
  },
  {
   "cell_type": "code",
   "execution_count": 5,
   "metadata": {},
   "outputs": [
    {
     "name": "stdout",
     "output_type": "stream",
     "text": [
      "(20640, 8)\n",
      "(20640,)\n"
     ]
    }
   ],
   "source": [
    "# load dataset\n",
    "X, y = datasets.fetch_california_housing(return_X_y=True)\n",
    "print(X.shape)\n",
    "print(y.shape)"
   ]
  },
  {
   "cell_type": "code",
   "execution_count": 6,
   "metadata": {},
   "outputs": [
    {
     "name": "stdout",
     "output_type": "stream",
     "text": [
      "(20640, 13)\n"
     ]
    }
   ],
   "source": [
    "# create virtual features \n",
    "X_virtual = [np.power(X[:,0], 2).reshape([-1,1]),\n",
    "             np.power(X[:,4], 2).reshape([-1,1]),\n",
    "             np.power(X[:,5], 3).reshape([-1,1]),\n",
    "             np.power(X[:,6], 2).reshape([-1,1]),\n",
    "            ]\n",
    "X_virtual = np.hstack(X_virtual)\n",
    "X = np.hstack((X, X_virtual))\n",
    "interc = np.ones((X.shape[0], 1))\n",
    "X = np.hstack((interc, X))\n",
    "print(X.shape)"
   ]
  },
  {
   "cell_type": "code",
   "execution_count": 7,
   "metadata": {},
   "outputs": [
    {
     "name": "stdout",
     "output_type": "stream",
     "text": [
      "Train/Test: 16512/4128\n"
     ]
    }
   ],
   "source": [
    "# split training and testing dataset\n",
    "train_ratio = 0.8\n",
    "cutoff = int(X.shape[0] * train_ratio)\n",
    "X_tr = X[:cutoff, :]\n",
    "y_tr = y[:cutoff]\n",
    "X_te = X[cutoff:,:]\n",
    "y_te = y[cutoff:]\n",
    "print('Train/Test: %d/%d' %(X_tr.shape[0], X_te.shape[0]))"
   ]
  },
  {
   "cell_type": "code",
   "execution_count": 8,
   "metadata": {
    "collapsed": true
   },
   "outputs": [],
   "source": [
    "# linear regression using the normal equation\n",
    "def pseudo_inverse(A):\n",
    "    # Calculate the pseudo_inverse of A\n",
    "    pinv = np.matmul(np.linalg.inv(np.matmul(A.T, A)), A.T)\n",
    "    return pinv "
   ]
  },
  {
   "cell_type": "code",
   "execution_count": 9,
   "metadata": {
    "collapsed": true
   },
   "outputs": [],
   "source": [
    "# evaluation functions\n",
    "def MSE(prediction,reference):\n",
    "    # Calculate the mean square error between the prediction and reference vectors\n",
    "    mse = 0.5 * np.mean(np.square(prediction - reference))\n",
    "    return mse \n",
    "\n",
    "def MAE(prediction, reference):\n",
    "    # Calculate the mean absolute error between the prediction and reference vectors\n",
    "    mae = np.mean(np.abs(prediction - reference))\n",
    "    return mae "
   ]
  },
  {
   "cell_type": "code",
   "execution_count": 10,
   "metadata": {},
   "outputs": [
    {
     "name": "stdout",
     "output_type": "stream",
     "text": [
      "[-2.46041530e+01  5.70776190e-01  1.07857470e-02 -1.35704230e-01\n",
      "  7.74429534e-01  5.68996772e-06 -5.19585763e-02 -1.00669354e+00\n",
      " -4.15626171e-01 -1.05797041e-02  1.91324111e-10  1.42019113e-07\n",
      "  8.28267916e-03]\n"
     ]
    }
   ],
   "source": [
    "# fit the polynomial on the training set\n",
    "beta = np.matmul(pseudo_inverse(X_tr), y_tr)\n",
    "#print(np.linalg.inv(np.matmul(X_tr.T,X_tr)))\n",
    "print(beta)"
   ]
  },
  {
   "cell_type": "code",
   "execution_count": 11,
   "metadata": {},
   "outputs": [
    {
     "name": "stdout",
     "output_type": "stream",
     "text": [
      "5.688900430502425\n",
      "0.5560411511341454\n"
     ]
    }
   ],
   "source": [
    "# make prediction on the testing set\n",
    "pred = np.matmul(X_te, beta)\n",
    "mse = MSE(pred, y_te)\n",
    "mae = MAE(pred, y_te)\n",
    "print(mse)\n",
    "print(mae)"
   ]
  },
  {
   "cell_type": "code",
   "execution_count": 12,
   "metadata": {
    "collapsed": true
   },
   "outputs": [],
   "source": [
    "# regularized linear regression \n",
    "def regularized_pseudo_inverse(A, theta):\n",
    "    # Calculate the regularized pseudo_inverse of A\n",
    "    dim = A.shape[1]\n",
    "    pinv = np.matmul(np.linalg.inv(np.matmul(A.T, A) + theta * np.identity(dim)), A.T)\n",
    "    return pinv "
   ]
  },
  {
   "cell_type": "code",
   "execution_count": 13,
   "metadata": {
    "collapsed": true
   },
   "outputs": [],
   "source": [
    "theta = 0.5\n",
    "beta_regularized = np.matmul(regularized_pseudo_inverse(X_tr, theta), y_tr)"
   ]
  },
  {
   "cell_type": "code",
   "execution_count": 14,
   "metadata": {},
   "outputs": [
    {
     "name": "stdout",
     "output_type": "stream",
     "text": [
      "5.463482120840019\n",
      "0.5498164056842985\n"
     ]
    }
   ],
   "source": [
    "# make prediction on the testing set\n",
    "pred_2 = np.matmul(X_te, beta_regularized)\n",
    "mse = MSE(pred_2, y_te)\n",
    "mae = MAE(pred_2, y_te)\n",
    "print(mse)\n",
    "print(mae)"
   ]
  },
  {
   "cell_type": "code",
   "execution_count": null,
   "metadata": {
    "collapsed": true
   },
   "outputs": [],
   "source": []
  }
 ],
 "metadata": {
  "anaconda-cloud": {},
  "kernelspec": {
   "display_name": "Python 3",
   "language": "python",
   "name": "python3"
  },
  "language_info": {
   "codemirror_mode": {
    "name": "ipython",
    "version": 3
   },
   "file_extension": ".py",
   "mimetype": "text/x-python",
   "name": "python",
   "nbconvert_exporter": "python",
   "pygments_lexer": "ipython3",
   "version": "3.8.10"
  }
 },
 "nbformat": 4,
 "nbformat_minor": 2
}
