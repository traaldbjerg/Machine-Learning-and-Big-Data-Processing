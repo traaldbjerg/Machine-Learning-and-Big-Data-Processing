{
 "cells": [
  {
   "cell_type": "code",
   "execution_count": 1,
   "metadata": {
    "collapsed": true
   },
   "outputs": [],
   "source": [
    "from sklearn import datasets\n",
    "import numpy as np"
   ]
  },
  {
   "cell_type": "code",
   "execution_count": 2,
   "metadata": {},
   "outputs": [
    {
     "name": "stdout",
     "output_type": "stream",
     "text": [
      "(506, 13)\n",
      "(506,)\n"
     ]
    }
   ],
   "source": [
    "# load dataset\n",
    "X, y = datasets.load_boston(return_X_y=True)\n",
    "print(X.shape)\n",
    "print(y.shape)"
   ]
  },
  {
   "cell_type": "code",
   "execution_count": 3,
   "metadata": {},
   "outputs": [
    {
     "name": "stdout",
     "output_type": "stream",
     "text": [
      "(506, 18)\n"
     ]
    }
   ],
   "source": [
    "# create virtual features \n",
    "X_virtual = [np.power(X[:,0], 2).reshape([-1,1]),\n",
    "             np.power(X[:,7], 2).reshape([-1,1]),\n",
    "             np.power(X[:,10], 3).reshape([-1,1]),\n",
    "             np.power(X[:,10], 2).reshape([-1,1]),\n",
    "            ]\n",
    "X_virtual = np.hstack(X_virtual)\n",
    "X = np.hstack((X, X_virtual))\n",
    "interc = np.ones((X.shape[0], 1))\n",
    "X = np.hstack((interc, X))\n",
    "print(X.shape)"
   ]
  },
  {
   "cell_type": "code",
   "execution_count": 4,
   "metadata": {},
   "outputs": [
    {
     "name": "stdout",
     "output_type": "stream",
     "text": [
      "Train/Test: 404/102\n"
     ]
    }
   ],
   "source": [
    "# split training and testing dataset\n",
    "train_ratio = 0.8\n",
    "cutoff = int(X.shape[0] * train_ratio)\n",
    "X_tr = X[:cutoff, :]\n",
    "y_tr = y[:cutoff]\n",
    "X_te = X[cutoff:,:]\n",
    "y_te = y[cutoff:]\n",
    "print('Train/Test: %d/%d' %(X_tr.shape[0], X_te.shape[0]))"
   ]
  },
  {
   "cell_type": "code",
   "execution_count": 5,
   "metadata": {
    "collapsed": true
   },
   "outputs": [],
   "source": [
    "# linear regression using the normal equation\n",
    "def pseudo_inverse(A):\n",
    "    # Calculate the pseudo_inverse of A\n",
    "    pinv = np.matmul(np.linalg.inv(np.matmul(A.T, A)), A.T)\n",
    "    return pinv "
   ]
  },
  {
   "cell_type": "code",
   "execution_count": 6,
   "metadata": {
    "collapsed": true
   },
   "outputs": [],
   "source": [
    "# evaluation functions\n",
    "def MSE(prediction,reference):\n",
    "    # Calculate the mean square error between the prediction and reference vectors\n",
    "    mse = 0.5 * np.mean(np.square(prediction - reference))\n",
    "    return mse \n",
    "\n",
    "def MAE(prediction, reference):\n",
    "    # Calculate the mean absolute error between the prediction and reference vectors\n",
    "    mae = np.mean(np.abs(prediction - reference))\n",
    "    return mae "
   ]
  },
  {
   "cell_type": "code",
   "execution_count": 7,
   "metadata": {},
   "outputs": [
    {
     "name": "stdout",
     "output_type": "stream",
     "text": [
      "[ -1.47822484e+00  -3.59182467e-01   1.31208588e-02   2.26267140e-02\n",
      "   2.32167339e+00  -2.61172212e+01   4.54735693e+00  -2.16637463e-02\n",
      "  -4.33747425e+00   5.94472123e-01  -2.04450469e-02   1.08486486e+01\n",
      "  -9.76338635e-04  -5.04278271e-01   1.67320750e-03   2.60153051e-01\n",
      "   1.91551716e-02  -8.45782878e-01]\n"
     ]
    }
   ],
   "source": [
    "# fit the polynomial on the training set\n",
    "beta = np.matmul(pseudo_inverse(X_tr), y_tr)\n",
    "#print(np.linalg.inv(np.matmul(X_tr.T,X_tr)))\n",
    "print(beta)"
   ]
  },
  {
   "cell_type": "code",
   "execution_count": 8,
   "metadata": {},
   "outputs": [
    {
     "name": "stdout",
     "output_type": "stream",
     "text": [
      "14.426733834\n",
      "4.32632611532\n"
     ]
    }
   ],
   "source": [
    "# make prediction on the testing set\n",
    "pred = np.matmul(X_te, beta)\n",
    "mse = MSE(pred, y_te)\n",
    "mae = MAE(pred, y_te)\n",
    "print(mse)\n",
    "print(mae)"
   ]
  },
  {
   "cell_type": "code",
   "execution_count": 9,
   "metadata": {
    "collapsed": true
   },
   "outputs": [],
   "source": [
    "# regularized linear regression \n",
    "def regularized_pseudo_inverse(A, theta):\n",
    "    # Calculate the regularized pseudo_inverse of A\n",
    "    ### Your code here ###\n",
    "    return pinv "
   ]
  },
  {
   "cell_type": "code",
   "execution_count": 10,
   "metadata": {
    "collapsed": true
   },
   "outputs": [],
   "source": [
    "# fit the polynomial, regularized by theta\n",
    "theta = 0.5\n",
    "beta_regularized = ### Your code here ###  "
   ]
  },
  {
   "cell_type": "code",
   "execution_count": 11,
   "metadata": {},
   "outputs": [
    {
     "name": "stdout",
     "output_type": "stream",
     "text": [
      "13.7365795956\n",
      "4.27189745809\n"
     ]
    }
   ],
   "source": [
    "# make prediction on the testing set\n",
    "pred_2 = ### Your code here ###\n",
    "mse = MSE(pred_2, y_te)\n",
    "mae = MAE(pred_2, y_te)\n",
    "print(mse)\n",
    "print(mae)"
   ]
  },
  {
   "cell_type": "code",
   "execution_count": null,
   "metadata": {
    "collapsed": true
   },
   "outputs": [],
   "source": []
  }
 ],
 "metadata": {
  "anaconda-cloud": {},
  "kernelspec": {
   "display_name": "Python 3",
   "language": "python",
   "name": "python3"
  },
  "language_info": {
   "codemirror_mode": {
    "name": "ipython",
    "version": 3
   },
   "file_extension": ".py",
   "mimetype": "text/x-python",
   "name": "python",
   "nbconvert_exporter": "python",
   "pygments_lexer": "ipython3",
   "version": "3.7.3"
  }
 },
 "nbformat": 4,
 "nbformat_minor": 2
}
