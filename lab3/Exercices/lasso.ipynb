{
 "cells": [
  {
   "cell_type": "code",
   "execution_count": 15,
   "metadata": {},
   "outputs": [],
   "source": [
    "import pandas as pd\n",
    "\n",
    "def load_boston():\n",
    "    # Load the dataset\n",
    "    df = pd.read_csv('boston_house_prices.csv')\n",
    "\n",
    "    # Separate the features and target\n",
    "    print(df.head())\n",
    "    x = df.drop('MEDV', axis=1).values\n",
    "    y = df['MEDV'].values\n",
    "\n",
    "    return x, y"
   ]
  },
  {
   "cell_type": "code",
   "execution_count": 16,
   "metadata": {},
   "outputs": [
    {
     "name": "stdout",
     "output_type": "stream",
     "text": [
      "      CRIM    ZN  INDUS  CHAS    NOX     RM   AGE     DIS  RAD  TAX  PTRATIO  \\\n",
      "0  0.00632  18.0   2.31     0  0.538  6.575  65.2  4.0900    1  296     15.3   \n",
      "1  0.02731   0.0   7.07     0  0.469  6.421  78.9  4.9671    2  242     17.8   \n",
      "2  0.02729   0.0   7.07     0  0.469  7.185  61.1  4.9671    2  242     17.8   \n",
      "3  0.03237   0.0   2.18     0  0.458  6.998  45.8  6.0622    3  222     18.7   \n",
      "4  0.06905   0.0   2.18     0  0.458  7.147  54.2  6.0622    3  222     18.7   \n",
      "\n",
      "        B  LSTAT  MEDV  \n",
      "0  396.90   4.98  24.0  \n",
      "1  396.90   9.14  21.6  \n",
      "2  392.83   4.03  34.7  \n",
      "3  394.63   2.94  33.4  \n",
      "4  396.90   5.33  36.2  \n",
      "22.532806324110677\n",
      "(404, 13)\n",
      "(404,)\n",
      "(102, 13)\n",
      "(102,)\n",
      "(404, 14)\n",
      "(102, 14)\n"
     ]
    }
   ],
   "source": [
    "import numpy as np\n",
    "# load boston housing price dataset\n",
    "x,y = load_boston()\n",
    "print(y.mean())\n",
    "# split into training and test sets, namely 80 percent of examples goes for the training, 20 percent goes for the test set\n",
    "N_train = int(0.8 * x.shape[0])\n",
    "x_train = x[:N_train,:]\n",
    "y_train = y[:N_train]\n",
    "x_test = x[N_train:,:]\n",
    "y_test = y[N_train:]\n",
    "\n",
    "# scale features by removing mean and dividing by the standard deviation\n",
    "x_bar = np.mean(x_train,axis=0)\n",
    "x_std = np.std(x_train,axis=0)\n",
    "x_train_scaled = (x_train - x_bar)/x_std\n",
    "x_test_scaled = (x_test - x_bar)/x_std\n",
    "\n",
    "print(x_train_scaled.shape)\n",
    "print(y_train.shape)\n",
    "print(x_test_scaled.shape)\n",
    "print(y_test.shape)\n",
    "\n",
    "intercept_train = np.ones((N_train,1))\n",
    "x_train_scaled = np.hstack((intercept_train,x_train_scaled))\n",
    "\n",
    "intercept_test = np.ones((x.shape[0] - N_train,1))\n",
    "x_test_scaled = np.hstack((intercept_test,x_test_scaled))\n",
    "\n",
    "print(x_train_scaled.shape)\n",
    "print(x_test_scaled.shape)"
   ]
  },
  {
   "cell_type": "code",
   "execution_count": null,
   "metadata": {},
   "outputs": [],
   "source": []
  },
  {
   "cell_type": "code",
   "execution_count": 17,
   "metadata": {},
   "outputs": [
    {
     "ename": "SyntaxError",
     "evalue": "invalid syntax (2884767394.py, line 5)",
     "output_type": "error",
     "traceback": [
      "\u001b[0;36m  Cell \u001b[0;32mIn[17], line 5\u001b[0;36m\u001b[0m\n\u001b[0;31m    LASSO =\u001b[0m\n\u001b[0m            ^\u001b[0m\n\u001b[0;31mSyntaxError\u001b[0m\u001b[0;31m:\u001b[0m invalid syntax\n"
     ]
    }
   ],
   "source": [
    "# Step 2: Train the lasso regression model\n",
    "from sklearn import linear_model\n",
    "# Implement a Lasso object from sklearn.linear_model to train, set the alpha value to 0.1\n",
    "### YOUR CODE HERE ###\n",
    "LASSO = \n",
    "\n",
    "print(LASSO.coef_)\n",
    "print(LASSO.intercept_)"
   ]
  },
  {
   "cell_type": "code",
   "execution_count": null,
   "metadata": {},
   "outputs": [],
   "source": []
  },
  {
   "cell_type": "code",
   "execution_count": null,
   "metadata": {},
   "outputs": [],
   "source": [
    "# Step 3: Predict the price, calculate the error and compare with the linear regression\n",
    "# You will see the Lasso model is better than the simple linear model\n",
    "from sklearn import metrics\n",
    "# Implement the prediction\n",
    "### YOUR CODE HERE ###\n",
    "y_pred=\n",
    "\n",
    "# Invoke appropriate functions in sklearn.metrics to calculate \n",
    "# the Mean Absolute Error (MAE) and Mean Squared Error (MSE)\n",
    "### YOUR CODE HERE ###\n",
    "mae=\n",
    "mse=\n",
    "\n",
    "print(\"MAE of LASSO model:\",mae)\n",
    "print(\"MSE of LASSO model:\",mse)\n",
    "print()\n",
    "\n",
    "# Implement a LinearRegression object from sklearn.linear_model to train on the same dataset\n",
    "### YOUR CODE HERE ###\n",
    "LINEAR=\n",
    "\n",
    "# Predict the price using the trained linear model and calculate the MAE and MSE\n",
    "### YOUR CODE HERE ###\n",
    "y_pred_lin=\n",
    "mae_lin=\n",
    "mse_lin=\n",
    "\n",
    "print(\"MAE of linear model:\",mae_lin)\n",
    "print(\"MSE of linear model:\",mse_lin)"
   ]
  },
  {
   "cell_type": "code",
   "execution_count": null,
   "metadata": {},
   "outputs": [],
   "source": [
    "# Step 4: Compare the performance of models with different alpha values\n",
    "# Through observing the prediction error, you can select out the best alpha value\n",
    "import matplotlib.pyplot as plt\n",
    "mae_list=np.zeros(10)\n",
    "mse_list=np.zeros(10)\n",
    "alpha_list=np.arange(0.05,0.51,0.05)\n",
    "# Equip the Lasso model with alpha values above\n",
    "for i in range(10):\n",
    "    ### YOUR CODE HERE ###\n",
    "    LASSO = \n",
    "    \n",
    "    y_pred=\n",
    "    mae_list[i]=\n",
    "    mse_list[i]=\n",
    "\n",
    "plt.figure(0)\n",
    "plt.plot(alpha_list,mae_list,'gd-')\n",
    "plt.title('Mean absolute error of LASSO models with different alpha values')\n",
    "plt.xlabel('alpha')\n",
    "plt.ylabel('MAE')\n",
    "plt.grid()\n",
    "plt.figure(1)\n",
    "plt.plot(alpha_list,mse_list,'bd-')\n",
    "plt.title('Mean squared error of LASSO models with different alpha values')\n",
    "plt.xlabel('alpha')\n",
    "plt.ylabel('MSE')\n",
    "plt.grid()"
   ]
  },
  {
   "cell_type": "code",
   "execution_count": null,
   "metadata": {},
   "outputs": [],
   "source": []
  }
 ],
 "metadata": {
  "kernelspec": {
   "display_name": "base",
   "language": "python",
   "name": "python3"
  },
  "language_info": {
   "codemirror_mode": {
    "name": "ipython",
    "version": 3
   },
   "file_extension": ".py",
   "mimetype": "text/x-python",
   "name": "python",
   "nbconvert_exporter": "python",
   "pygments_lexer": "ipython3",
   "version": "3.12.9"
  }
 },
 "nbformat": 4,
 "nbformat_minor": 2
}
