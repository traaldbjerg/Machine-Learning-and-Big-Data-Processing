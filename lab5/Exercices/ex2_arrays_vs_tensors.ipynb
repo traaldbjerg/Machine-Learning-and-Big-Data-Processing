{
 "cells": [
  {
   "cell_type": "code",
   "execution_count": null,
   "metadata": {
    "id": "cPxoQZIYC6T9"
   },
   "outputs": [],
   "source": [
    "import time\n",
    "\n",
    "import matplotlib.pyplot as plt\n",
    "import numpy as np\n",
    "import torch"
   ]
  },
  {
   "cell_type": "code",
   "execution_count": null,
   "metadata": {
    "id": "y9p-y-xBE2wc"
   },
   "outputs": [],
   "source": [
    "def time_matmul(type,x):\n",
    "  \"\"\"Returns the time required to do 10 matrix multiplications\n",
    "  \n",
    "  Parameters:\n",
    "  type (string): The type of input matrix (x): 'Numpy' or Tensor (CPU or GPU)\n",
    "  x (matrix): A square array to do matrix multiplication\n",
    "\n",
    "  Returns:\n",
    "  int: Time required to do 10 matrix multiplications\n",
    "  \"\"\"\n",
    "  \n",
    "  start = time.time()\n",
    "  if type=='numpy':\n",
    "    for loop in range(10):\n",
    "      np.matmul(x,x)\n",
    "  else:\n",
    "    for loop in range(10):\n",
    "      torch.matmul(x,x)\n",
    "  return (time.time() - start)"
   ]
  },
  {
   "cell_type": "code",
   "execution_count": null,
   "metadata": {
    "id": "ox-B_xGdDq1N"
   },
   "outputs": [],
   "source": [
    "shape_dim = []\n",
    "numpy_time = []\n",
    "cpu_tensor_time = []\n",
    "gpu_tensor_time = []\n",
    "\n",
    "for shape in range(500,3001,500):\n",
    "  shape_dim.append(shape**2)\n",
    "\n",
    "  # Create a numpy array of size [shape, shape] with elements sampled from \n",
    "  # an uniform random ( over interval [0,1) ) distribution\n",
    "  # Use function 'time_matmul' with type 'numpy' and append resulting time \n",
    "  # to 'numpy_time'\n",
    "\n",
    "  # Your code goes here\n",
    "  \n",
    "  # Create a Tensor on CPU of size [shape, shape] with elements sampled from \n",
    "  # an uniform random ( over interval [0,1) ) distribution\n",
    "  # Use function 'time_matmul' with type 'cpu' and append resulting time \n",
    "  # to 'cpu_tensor_time'\n",
    "\n",
    "  # Your code goes here\n",
    "\n",
    "  # Create a Tensor on GPU of size [shape, shape] with elements sampled from \n",
    "  # an uniform random ( over interval [0,1) ) distribution\n",
    "  # Use function 'time_matmul' with type 'gpu' and append resulting time \n",
    "  # to 'gpu_tensor_time'\n",
    "\n",
    "  # Your code goes here"
   ]
  },
  {
   "cell_type": "code",
   "execution_count": null,
   "metadata": {
    "id": "PcYjq_inDIni"
   },
   "outputs": [],
   "source": [
    "plt.figure()\n",
    "plt.plot(shape_dim,numpy_time,label=\"Numpy Array\")\n",
    "plt.plot(shape_dim,cpu_tensor_time,label=\"Tensor on CPU\")\n",
    "plt.plot(shape_dim,gpu_tensor_time,label=\"Tensor on GPU\")\n",
    "plt.grid()\n",
    "plt.xlabel(\"Number of matrix elements\")\n",
    "plt.ylabel(\"Time (s)\")\n",
    "plt.legend()\n",
    "plt.show()"
   ]
  }
 ],
 "metadata": {
  "accelerator": "GPU",
  "colab": {
   "name": "ex2_arrays_vs_tensors.ipynb",
   "provenance": []
  },
  "kernelspec": {
   "display_name": "Python 3",
   "language": "python",
   "name": "python3"
  },
  "language_info": {
   "codemirror_mode": {
    "name": "ipython",
    "version": 3
   },
   "file_extension": ".py",
   "mimetype": "text/x-python",
   "name": "python",
   "nbconvert_exporter": "python",
   "pygments_lexer": "ipython3",
   "version": "3.8.5"
  }
 },
 "nbformat": 4,
 "nbformat_minor": 1
}
