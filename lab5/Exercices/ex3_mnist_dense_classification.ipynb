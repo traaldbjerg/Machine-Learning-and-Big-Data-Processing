{
  "nbformat": 4,
  "nbformat_minor": 0,
  "metadata": {
    "accelerator": "GPU",
    "colab": {
      "provenance": []
    },
    "kernelspec": {
      "display_name": "Python 3",
      "language": "python",
      "name": "python3"
    },
    "language_info": {
      "codemirror_mode": {
        "name": "ipython",
        "version": 3
      },
      "file_extension": ".py",
      "mimetype": "text/x-python",
      "name": "python",
      "nbconvert_exporter": "python",
      "pygments_lexer": "ipython3",
      "version": "3.8.5"
    }
  },
  "cells": [
    {
      "cell_type": "code",
      "metadata": {
        "id": "iyxwb9GntNgW"
      },
      "source": [
        "import matplotlib.pyplot as plt\n",
        "import numpy as np\n",
        "import torch\n",
        "import torch.nn as nn\n",
        "import torch.nn.functional as F\n",
        "import torch.optim as optim\n",
        "import torchvision"
      ],
      "execution_count": null,
      "outputs": []
    },
    {
      "cell_type": "markdown",
      "metadata": {
        "id": "crLOYrpHO22E"
      },
      "source": [
        "# **Parameter initialization and data preparation**"
      ]
    },
    {
      "cell_type": "code",
      "metadata": {
        "id": "Dm1d1fVguc7L"
      },
      "source": [
        "# Parameters\n",
        "batch_size = 4\n",
        "num_epochs = 3\n",
        "device = 'cuda:0'\n",
        "num_classes = 10\n",
        "\n",
        "# Load dataset\n",
        "transform = torchvision.transforms.Compose(\n",
        "    [torchvision.transforms.ToTensor(),\n",
        "     torchvision.transforms.Normalize((0.5), (0.5))])\n",
        "\n",
        "trainset = torchvision.datasets.MNIST(root='./data', train=True,\n",
        "                                        download=True, transform=transform)\n",
        "testset = torchvision.datasets.MNIST(root='./data', train=False,\n",
        "                                       download=True, transform=transform)\n",
        "classes = ('0', '1', '2', '3', '4', '5', '6', '7', '8', '9')\n",
        "\n",
        "print(trainset)\n",
        "\n",
        "# Create dataloaders\n",
        "trainloader = torch.utils.data.DataLoader(trainset, batch_size=batch_size,\n",
        "                                          shuffle=True)\n",
        "testloader = torch.utils.data.DataLoader(testset, batch_size=batch_size,\n",
        "                                         shuffle=False)"
      ],
      "execution_count": null,
      "outputs": []
    },
    {
      "cell_type": "code",
      "metadata": {
        "id": "ufNSfCGQvIyK"
      },
      "source": [
        "def imshow(img):\n",
        "    img = img / 2 + 0.5     # unnormalize to show images correctly\n",
        "    npimg = img.numpy()\n",
        "    plt.imshow(np.transpose(npimg, (1, 2, 0)))\n",
        "    plt.show()"
      ],
      "execution_count": null,
      "outputs": []
    },
    {
      "cell_type": "code",
      "metadata": {
        "id": "rWX8A3YpvZba"
      },
      "source": [
        "# Print some samples of dataset as a sanity check\n",
        "\n",
        "# Get some random training images\n",
        "dataiter = iter(trainloader)\n",
        "example_images, example_labels = next(dataiter)\n",
        "\n",
        "print(example_images.shape)\n",
        "\n",
        "# Show images\n",
        "imshow(torchvision.utils.make_grid(example_images))\n",
        "# Print labels\n",
        "print(' '.join('%5s' % classes[example_labels[j]] for j in range(batch_size)))"
      ],
      "execution_count": null,
      "outputs": []
    },
    {
      "cell_type": "markdown",
      "metadata": {
        "id": "iaxCLn6FPbQk"
      },
      "source": [
        "# **Define Model**"
      ]
    },
    {
      "cell_type": "code",
      "metadata": {
        "id": "XOGFCKDmORnE"
      },
      "source": [
        "class DenseNet(nn.Module):\n",
        "    def __init__(self, input_features, num_classes):\n",
        "        # Instantiation of layers and creation of trainable parameters\n",
        "        super().__init__()\n",
        "        self.flatten = nn.Flatten()\n",
        "        # >> Your code goes here <<\n",
        "\n",
        "    def forward(self, x):\n",
        "        # Forward pass: the computations that are done on the input -> output\n",
        "        x = self.flatten(x)\n",
        "        # >> Your code goes here <<\n",
        "        return x"
      ],
      "execution_count": null,
      "outputs": []
    },
    {
      "cell_type": "markdown",
      "metadata": {
        "id": "ayz0D70bUP6i"
      },
      "source": [
        "# **Make a training loop**"
      ]
    },
    {
      "cell_type": "code",
      "metadata": {
        "id": "ZC6ygnCIQSXg"
      },
      "source": [
        "def compute_run_acc(logits, labels):\n",
        "    _, pred = torch.max(logits.data, 1)\n",
        "    return (pred == labels).sum().item()"
      ],
      "execution_count": null,
      "outputs": []
    },
    {
      "cell_type": "code",
      "metadata": {
        "id": "U46vlNgnOiH0"
      },
      "source": [
        "# Instantiate model and optimizer\n",
        "\n",
        "model = DenseNet(784, num_classes).to(device)\n",
        "criterion = nn.CrossEntropyLoss()\n",
        "# optimizer = >> Your code goes here << Use SGD with lr=0.001, momentum = 0.9\n",
        "\n",
        "# Training loop\n",
        "for epoch_nr in range(num_epochs):\n",
        "\n",
        "    running_loss = 0.0\n",
        "    running_acc = 0.0\n",
        "    for batch_data, batch_labels in trainloader:\n",
        "\n",
        "        # Put data on device\n",
        "        # >> Your code goes here <<\n",
        "\n",
        "        # Predict and get loss\n",
        "        # >> Your code goes here <<\n",
        "\n",
        "        # Update model\n",
        "        # >> Your code goes here <<\n",
        "\n",
        "        # Keep running statistics\n",
        "        running_loss += loss.item()\n",
        "        running_acc += compute_run_acc(logits, batch_labels)\n",
        "      \n",
        "    # Print results\n",
        "    print('TRAIN: Epoch {} completed | tr_loss: {:.4f} | tr_acc: {:.2f}%'.format(\n",
        "        epoch_nr, running_loss/len(trainloader.dataset), \n",
        "        100 * running_acc/len(trainloader.dataset)))\n",
        "    \n",
        "    # Save model\n",
        "    torch.save(model.state_dict(), './cifar_net.pth')\n",
        "print('Finished Training')"
      ],
      "execution_count": null,
      "outputs": []
    },
    {
      "cell_type": "markdown",
      "metadata": {
        "id": "IglWbiikUXI5"
      },
      "source": [
        "# **Get testing accuracy on last model**"
      ]
    },
    {
      "cell_type": "code",
      "metadata": {
        "id": "1ytOdeFITqy1"
      },
      "source": [
        "# Test loop\n",
        "running_acc = 0\n",
        "with torch.no_grad():\n",
        "    # Iterate over testloader and get running acc in similar way as in train loop\n",
        "    # >> Your code goes here <<\n",
        "\n",
        "# Print results\n",
        "print('TEST: test_acc: {:.2f}%'.format( 100 * running_acc/len(testloader.dataset)))"
      ],
      "execution_count": null,
      "outputs": []
    },
    {
      "cell_type": "markdown",
      "metadata": {
        "id": "Ddp6yoG9UpxL"
      },
      "source": [
        "## **Training loop with validation to find 'best' epoch**\n",
        "As this predefined dataset contains only 2 partitions, we'll use the testing dataset as validation dataset. Nevertheless, good practice is to validate on a different set than the testing dataset when available"
      ]
    },
    {
      "cell_type": "code",
      "metadata": {
        "id": "bAFodo88UszJ"
      },
      "source": [
        "# Instantiate model and optimizer\n",
        "\n",
        "model = DenseNet(784, num_classes).to(device)\n",
        "criterion = nn.CrossEntropyLoss()\n",
        "optimizer = optim.SGD(model.parameters(), lr=0.001, momentum=0.9)\n",
        "best_test_acc = 0\n",
        "\n",
        "tr_accuracies = np.zeros(num_epochs)\n",
        "test_accuracies = np.zeros(num_epochs)\n",
        "\n",
        "for epoch_nr in range(num_epochs):\n",
        "\n",
        "    # Train model\n",
        "    # >> Your code goes here <<\n",
        "      \n",
        "    # Print train results\n",
        "    tr_acc = 100 * running_acc/len(trainloader.dataset)\n",
        "    print('TRAIN: Epoch {} completed | tr_loss: {:.4f} | tr_acc: {:.2f}%'.format(\n",
        "        epoch_nr, running_loss/len(trainloader.dataset), tr_acc))\n",
        "    tr_accuracies[epoch_nr] = tr_acc\n",
        "    \n",
        "    # Get testing results\n",
        "    # >> Your code goes here <<\n",
        "\n",
        "    # Print testing results\n",
        "    test_acc = 100 * running_acc/len(testloader.dataset)\n",
        "    print('TEST: Epoch {} | test_acc: {:.2f}%'.format(epoch_nr, test_acc))\n",
        "    test_accuracies[epoch_nr] = test_acc\n",
        "\n",
        "    # Save model if best accuracy on test dataset until now\n",
        "    # >> Your code goes here <<\n",
        "\n",
        "print('Finished Training')"
      ],
      "execution_count": null,
      "outputs": []
    },
    {
      "cell_type": "code",
      "metadata": {
        "id": "x2sCOA_HWr7I"
      },
      "source": [
        "plt.figure()\n",
        "plt.plot(tr_accuracies, label='Training')\n",
        "plt.plot(test_accuracies, label='Test')\n",
        "plt.ylabel('Accuracy')\n",
        "plt.xlabel('Epochs')\n",
        "plt.legend()\n",
        "plt.show()"
      ],
      "execution_count": null,
      "outputs": []
    }
  ]
}